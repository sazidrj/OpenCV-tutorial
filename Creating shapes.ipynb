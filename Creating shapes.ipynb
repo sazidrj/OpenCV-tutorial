{
 "cells": [
  {
   "cell_type": "code",
   "execution_count": 1,
   "metadata": {},
   "outputs": [],
   "source": [
    "import cv2\n",
    "import numpy as np"
   ]
  },
  {
   "cell_type": "code",
   "execution_count": null,
   "metadata": {},
   "outputs": [],
   "source": [
    "\n",
    "#Creata a black image\n",
    "image = np.zeros((512,512,3),np.uint8)\n",
    "\n",
    "#black and white image\n",
    "image_bw = np.zeros((512,512), np.uint8)\n",
    "\n",
    "cv2.imshow(\"Black Rectangle (Color)\" , image)\n",
    "cv2.imshow(\"Black Rectangle (BBW)\", image_bw)\n",
    "\n",
    "cv2.waitKey(0)\n",
    "cv2.destroyAllWindows()\n",
    "\n"
   ]
  },
  {
   "cell_type": "code",
   "execution_count": null,
   "metadata": {},
   "outputs": [],
   "source": [
    "#Draw a Diagonal blue line of thickness of 4 pixels\n",
    "#cv2.line(image, start_position, end_position, BGR_color, pixel)\n",
    "image = np.zeros((512,512,3), np.uint8)\n",
    "cv2.line(image,(0,0), (511,511),(255,127,0),4)\n",
    "cv2.imshow(\"Blue Line\",image)\n",
    "\n",
    "cv2.waitKey(0)\n",
    "cv2.destroyAllWindows()"
   ]
  },
  {
   "cell_type": "code",
   "execution_count": null,
   "metadata": {},
   "outputs": [],
   "source": [
    "#Rectangle\n",
    "#cv2.rectangle(image, start_position, end_position, BGR_color, pixel)\n",
    "image = np.zeros((512,512,3), np.uint8)\n",
    "\n",
    "cv2.rectangle(image, (100,100), (300,250), (127,50,127), 4)\n",
    "\n",
    "cv2.imshow(\"Rectangle\", image)\n",
    "cv2.waitKey(0)\n",
    "cv2.destroyAllWindows()"
   ]
  },
  {
   "cell_type": "code",
   "execution_count": null,
   "metadata": {},
   "outputs": [],
   "source": [
    "# Cicrcles\n",
    "#cv2.circle(image, center,radius, color, fill=-1 or pixel)\n",
    "\n",
    "image = np.zeors((512,512,3), np.uint8)\n",
    "\n",
    "cv2.circle(image, (300,300), 70, (15,75,50), -1)\n",
    "cv2.imshow(\"Circle\", image)\n",
    "cv2.waitKey(0)\n",
    "cv2.destroyAllWindows()\n"
   ]
  },
  {
   "cell_type": "code",
   "execution_count": null,
   "metadata": {},
   "outputs": [],
   "source": [
    "#Polygon\n",
    "image = np.zeros((512,512,3), np.uint8)\n",
    "\n",
    "pts = np.array( [[10,50], [400,50], [90,200],[50,500]], np.int32)\n",
    "\n",
    "pts = pts.reshape((-1, 1, 2))\n",
    "\n",
    "cv2.polylines(image, [pts], True, (0,0,255), 3)\n",
    "cv2.imshow(\"Polygon\", image)\n",
    "cv2.waitKey(0)\n",
    "cv2.destroyAllWindows()"
   ]
  },
  {
   "cell_type": "code",
   "execution_count": null,
   "metadata": {},
   "outputs": [],
   "source": [
    "#Add text with cv2.putText\n",
    "#cv2.putText(image, \"text\", bottom_left_starting_point, Font, Font_size, Color, Thickness)\n",
    "\n",
    "image = np.zeros((512,512,3), np.uint8)\n",
    "\n",
    "cv2.putText(image,\"hello world!\", (75,290), cv2.FONT_HERSHEY_COMPLEX, 2, (100,170, 0), 3)\n",
    "cv2.imshow(\"Hello World\", image)\n",
    "cv2.waitKey(0)\n",
    "cv2.destroyAllWindows()"
   ]
  },
  {
   "cell_type": "code",
   "execution_count": null,
   "metadata": {},
   "outputs": [],
   "source": []
  }
 ],
 "metadata": {
  "kernelspec": {
   "display_name": "Python 3",
   "language": "python",
   "name": "python3"
  },
  "language_info": {
   "codemirror_mode": {
    "name": "ipython",
    "version": 3
   },
   "file_extension": ".py",
   "mimetype": "text/x-python",
   "name": "python",
   "nbconvert_exporter": "python",
   "pygments_lexer": "ipython3",
   "version": "3.7.5"
  }
 },
 "nbformat": 4,
 "nbformat_minor": 2
}
