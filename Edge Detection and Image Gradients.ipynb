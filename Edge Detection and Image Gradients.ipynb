{
 "cells": [
  {
   "cell_type": "code",
   "execution_count": null,
   "metadata": {},
   "outputs": [],
   "source": [
    "import cv2\n",
    "import numpy as np"
   ]
  },
  {
   "cell_type": "code",
   "execution_count": null,
   "metadata": {},
   "outputs": [],
   "source": [
    "image = cv2.imread('images/input.jpg',0)\n",
    "\n",
    "height, widht = image.shape\n",
    "\n",
    "#Extract Sabel Edges\n",
    "#sobel visualize horizontal and vertical edges\n",
    "sobel_x = cv2.Sobel(image, cv2.CV_64F, 0, 1, ksize=5)\n",
    "sobel_y = cv2.Sobel(image, cv2.CV_64F, 1 , 0, ksize=5)\n",
    "\n",
    "cv2.imshow('Original Image', image)\n",
    "cv2.waitKey(0)\n",
    "cv2.imshow('Sobel X', sabel_x)\n",
    "cv2.waitKey(0)\n",
    "cv2.imshow('Sobel Y', sabel_y)\n",
    "cv2.waitKey(0)\n",
    "\n",
    "sobel_OR = cv2.bitwise_or(sobel_x, sobel_y)\n",
    "cv2.imshow('Sobel_OR', sobel_OR)\n",
    "cv2.waitKey(0)"
   ]
  },
  {
   "cell_type": "code",
   "execution_count": null,
   "metadata": {},
   "outputs": [],
   "source": [
    "\n",
    "laplacian = cv2.Lapcian(image, cv2.CV_64F)\n",
    "cv2.imshow('Laplacian', laplacian)\n",
    "cv2.waitKey(0)"
   ]
  },
  {
   "cell_type": "code",
   "execution_count": null,
   "metadata": {},
   "outputs": [],
   "source": [
    "#There are two values say threshold1 and threshold2\n",
    "#Any gradient value larger than threshold2 is considered to be an edge\n",
    "#Any value below threshold1 is considered not to be an edge\n",
    "#Values between threshold1 and threshold2 are either classified as edges or non edges\n",
    "#It depends on their intensity\n",
    "#Here In this case, any gradient values below 65 are considered as non-edges\n",
    "#values above 120 are considered as edges\n",
    "\n",
    "#Canny Edge Detection uses gradient values as thresholds\n",
    "canny = cv.Canny(image, 65,120)\n",
    "cv2.imshow('Canny', cannny)\n",
    "cv2.waitKey(0)\n",
    "\n",
    "cv2.destroyAllWindows()"
   ]
  }
 ],
 "metadata": {
  "kernelspec": {
   "display_name": "Python 3",
   "language": "python",
   "name": "python3"
  },
  "language_info": {
   "codemirror_mode": {
    "name": "ipython",
    "version": 3
   },
   "file_extension": ".py",
   "mimetype": "text/x-python",
   "name": "python",
   "nbconvert_exporter": "python",
   "pygments_lexer": "ipython3",
   "version": "3.7.5"
  }
 },
 "nbformat": 4,
 "nbformat_minor": 2
}
